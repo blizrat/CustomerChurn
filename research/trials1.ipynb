{
 "cells": [
  {
   "cell_type": "code",
   "id": "initial_id",
   "metadata": {
    "collapsed": true,
    "ExecuteTime": {
     "end_time": "2025-02-09T07:17:01.314178Z",
     "start_time": "2025-02-09T07:17:01.298419Z"
    }
   },
   "source": [
    "\n",
    "from src.CustomerChurn.logger import logging\n",
    "import sys, os\n",
    "\n",
    "logging.info(\"my log\")"
   ],
   "outputs": [],
   "execution_count": 7
  },
  {
   "metadata": {
    "ExecuteTime": {
     "end_time": "2025-02-03T11:14:42.106922Z",
     "start_time": "2025-02-03T11:14:42.102874Z"
    }
   },
   "cell_type": "code",
   "source": [
    "for i in my:\n",
    "    print(i)"
   ],
   "id": "550c3c04b037146e",
   "outputs": [
    {
     "name": "stdout",
     "output_type": "stream",
     "text": [
      "1\n",
      "2\n",
      "3\n",
      "4\n",
      "5\n",
      "6\n"
     ]
    }
   ],
   "execution_count": 5
  },
  {
   "metadata": {},
   "cell_type": "code",
   "outputs": [],
   "execution_count": null,
   "source": "",
   "id": "85e1d878ea990158"
  }
 ],
 "metadata": {
  "kernelspec": {
   "display_name": "Python 3",
   "language": "python",
   "name": "python3"
  },
  "language_info": {
   "codemirror_mode": {
    "name": "ipython",
    "version": 2
   },
   "file_extension": ".py",
   "mimetype": "text/x-python",
   "name": "python",
   "nbconvert_exporter": "python",
   "pygments_lexer": "ipython2",
   "version": "2.7.6"
  }
 },
 "nbformat": 4,
 "nbformat_minor": 5
}
