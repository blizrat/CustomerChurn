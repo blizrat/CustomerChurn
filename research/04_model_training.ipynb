{
 "cells": [
  {
   "cell_type": "code",
   "id": "initial_id",
   "metadata": {
    "collapsed": true,
    "ExecuteTime": {
     "end_time": "2025-02-13T11:55:34.256251Z",
     "start_time": "2025-02-13T11:55:33.845357Z"
    }
   },
   "source": "import os",
   "outputs": [],
   "execution_count": 5
  },
  {
   "metadata": {
    "ExecuteTime": {
     "end_time": "2025-02-13T11:55:24.512968Z",
     "start_time": "2025-02-13T11:55:24.499166Z"
    }
   },
   "cell_type": "code",
   "source": "%pwd",
   "id": "8439cf8343daddc9",
   "outputs": [
    {
     "data": {
      "text/plain": [
       "'/Users/viratsharma/Desktop/Project/CustomerChurn/research'"
      ]
     },
     "execution_count": 4,
     "metadata": {},
     "output_type": "execute_result"
    }
   ],
   "execution_count": 4
  },
  {
   "metadata": {
    "ExecuteTime": {
     "end_time": "2025-02-13T11:55:41.026464Z",
     "start_time": "2025-02-13T11:55:41.020823Z"
    }
   },
   "cell_type": "code",
   "source": "os.chdir('../')",
   "id": "b347882d3e84ec83",
   "outputs": [],
   "execution_count": 6
  },
  {
   "metadata": {
    "ExecuteTime": {
     "end_time": "2025-02-13T11:55:45.758429Z",
     "start_time": "2025-02-13T11:55:45.752565Z"
    }
   },
   "cell_type": "code",
   "source": "%pwd",
   "id": "d6b7e55414bb39a1",
   "outputs": [
    {
     "data": {
      "text/plain": [
       "'/Users/viratsharma/Desktop/Project/CustomerChurn'"
      ]
     },
     "execution_count": 7,
     "metadata": {},
     "output_type": "execute_result"
    }
   ],
   "execution_count": 7
  },
  {
   "metadata": {
    "ExecuteTime": {
     "end_time": "2025-02-13T12:07:17.108158Z",
     "start_time": "2025-02-13T12:07:16.463230Z"
    }
   },
   "cell_type": "code",
   "source": [
    "import pandas as pd\n",
    "from sklearn.model_selection import train_test_split\n",
    "from sklearn.preprocessing import StandardScaler\n",
    "from sklearn.ensemble import RandomForestClassifier\n",
    "from sklearn.linear_model import LogisticRegression\n",
    "from sklearn.svm import SVC\n",
    "from sklearn.metrics import accuracy_score, classification_report\n",
    "\n",
    "# Load datasets\n",
    "train = pd.read_csv('artifacts/data_transformation/train_data.csv')\n",
    "test = pd.read_csv('artifacts/data_transformation/test_data.csv')\n",
    "\n",
    "# Split features and target\n",
    "X_train = train.drop(columns=['Exited'])\n",
    "y_train = train['Exited']\n",
    "X_test = test.drop(columns=['Exited'])\n",
    "y_test = test['Exited']\n",
    "\n",
    "# Standardize features\n",
    "scaler = StandardScaler()\n",
    "X_train = scaler.fit_transform(X_train)\n",
    "X_test = scaler.transform(X_test)\n",
    "\n",
    "# Initialize classifiers\n",
    "models = {\n",
    "    \"Random Forest\": RandomForestClassifier(criterion='entropy', random_state=42, max_features = 'log2', warm_start= True)\n",
    "}\n",
    "\n",
    "# Train and evaluate models\n",
    "for name, model in models.items():\n",
    "    model.fit(X_train, y_train)\n",
    "    y_pred = model.predict(X_test)\n",
    "    accuracy = accuracy_score(y_test, y_pred)\n",
    "    print(f\"{name} Accuracy: {accuracy:.4f}\")\n",
    "    print(classification_report(y_test, y_pred))\n"
   ],
   "id": "7a9fbe3ea10d2f98",
   "outputs": [
    {
     "name": "stdout",
     "output_type": "stream",
     "text": [
      "Random Forest Accuracy: 0.8508\n",
      "              precision    recall  f1-score   support\n",
      "\n",
      "           0       0.86      0.96      0.91      1956\n",
      "           1       0.76      0.46      0.57       544\n",
      "\n",
      "    accuracy                           0.85      2500\n",
      "   macro avg       0.81      0.71      0.74      2500\n",
      "weighted avg       0.84      0.85      0.84      2500\n",
      "\n"
     ]
    }
   ],
   "execution_count": 17
  },
  {
   "metadata": {},
   "cell_type": "code",
   "outputs": [],
   "execution_count": null,
   "source": "",
   "id": "4cf7b91981af815c"
  }
 ],
 "metadata": {
  "kernelspec": {
   "display_name": "Python 3",
   "language": "python",
   "name": "python3"
  },
  "language_info": {
   "codemirror_mode": {
    "name": "ipython",
    "version": 2
   },
   "file_extension": ".py",
   "mimetype": "text/x-python",
   "name": "python",
   "nbconvert_exporter": "python",
   "pygments_lexer": "ipython2",
   "version": "2.7.6"
  }
 },
 "nbformat": 4,
 "nbformat_minor": 5
}
