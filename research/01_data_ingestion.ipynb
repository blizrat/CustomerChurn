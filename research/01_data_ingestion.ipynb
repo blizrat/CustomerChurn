{
 "cells": [
  {
   "cell_type": "code",
   "id": "initial_id",
   "metadata": {
    "collapsed": true,
    "ExecuteTime": {
     "end_time": "2025-02-09T05:30:14.518148Z",
     "start_time": "2025-02-09T05:30:14.516290Z"
    }
   },
   "source": [
    "import os\n",
    "os.chdir(\"../\")"
   ],
   "outputs": [],
   "execution_count": 1
  },
  {
   "metadata": {
    "ExecuteTime": {
     "end_time": "2025-02-09T05:30:21.276751Z",
     "start_time": "2025-02-09T05:30:21.267215Z"
    }
   },
   "cell_type": "code",
   "source": "%pwd",
   "id": "8f5fb239ebc5df85",
   "outputs": [
    {
     "data": {
      "text/plain": [
       "'/Users/viratsharma/Desktop/Project/CustomerChurn'"
      ]
     },
     "execution_count": 3,
     "metadata": {},
     "output_type": "execute_result"
    }
   ],
   "execution_count": 3
  },
  {
   "metadata": {},
   "cell_type": "markdown",
   "source": "Updating Entity:",
   "id": "dd116feda2ce7b66"
  },
  {
   "metadata": {
    "ExecuteTime": {
     "end_time": "2025-02-09T05:33:08.589822Z",
     "start_time": "2025-02-09T05:33:08.578275Z"
    }
   },
   "cell_type": "code",
   "source": [
    "from dataclasses import dataclass\n",
    "from pathlib import Path\n",
    "\n",
    "@dataclass(frozen=True)\n",
    "class DataIngestionConfig:\n",
    "    root_dir: Path\n",
    "    source_URL : str\n",
    "    local_data_file : Path"
   ],
   "id": "30a7923d2673ba99",
   "outputs": [],
   "execution_count": 4
  },
  {
   "metadata": {},
   "cell_type": "markdown",
   "source": "Updating config manager in src config",
   "id": "9f8bd9d4e232d8d6"
  },
  {
   "metadata": {},
   "cell_type": "code",
   "outputs": [],
   "execution_count": null,
   "source": [
    "from CustomerChurn.constants import *\n",
    "from CustomerChurn.utils import *"
   ],
   "id": "6e76ec4970e2cffc"
  }
 ],
 "metadata": {
  "kernelspec": {
   "display_name": "Python 3",
   "language": "python",
   "name": "python3"
  },
  "language_info": {
   "codemirror_mode": {
    "name": "ipython",
    "version": 2
   },
   "file_extension": ".py",
   "mimetype": "text/x-python",
   "name": "python",
   "nbconvert_exporter": "python",
   "pygments_lexer": "ipython2",
   "version": "2.7.6"
  }
 },
 "nbformat": 4,
 "nbformat_minor": 5
}
